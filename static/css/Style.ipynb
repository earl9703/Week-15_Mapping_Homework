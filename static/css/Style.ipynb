{
 "cells": [
  {
   "cell_type": "code",
   "execution_count": null,
   "id": "1d8012c3-bcba-4829-84bc-aec6ca4eccff",
   "metadata": {},
   "outputs": [],
   "source": [
    "/* Remove the default margin and padding from the body. */\n",
    "body {\n",
    "    padding: 0;\n",
    "    margin: 0;\n",
    "  }\n",
    "  \n",
    "  /* Set map, body, and html to 100% of the screen size. */\n",
    "  #map,\n",
    "  body,\n",
    "  html {\n",
    "    height: 100%;\n",
    "  }\n",
    "  \n",
    "/* .info.legend {\n",
    "    background-color: white;\n",
    "} */ \n",
    "\n",
    "/* Define text data for depth */\n",
    ".legend {\n",
    "    line-height: 18px;\n",
    "    color: black;\n",
    "    background-color: white;\n",
    "    padding: 10px;\n",
    "    border-radius: 8px;\n",
    "  }\n",
    "  \n",
    "  /* Define box information to hold the colors in the legend */\n",
    "  .legend i {\n",
    "    width: 18px;\n",
    "    height: 18px;\n",
    "    float: left;\n",
    "    margin-right: 8px;\n",
    "  }"
   ]
  }
 ],
 "metadata": {
  "kernelspec": {
   "display_name": "Python 3 (ipykernel)",
   "language": "python",
   "name": "python3"
  },
  "language_info": {
   "codemirror_mode": {
    "name": "ipython",
    "version": 3
   },
   "file_extension": ".py",
   "mimetype": "text/x-python",
   "name": "python",
   "nbconvert_exporter": "python",
   "pygments_lexer": "ipython3",
   "version": "3.10.14"
  }
 },
 "nbformat": 4,
 "nbformat_minor": 5
}
